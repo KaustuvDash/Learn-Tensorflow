{
 "cells": [
  {
   "cell_type": "code",
   "execution_count": 3,
   "metadata": {},
   "outputs": [],
   "source": [
    "import tensorflow as tf\n",
    "import numpy as np"
   ]
  },
  {
   "cell_type": "code",
   "execution_count": 4,
   "metadata": {},
   "outputs": [
    {
     "data": {
      "text/plain": [
       "array([[0.5, 1.5, 0.1],\n",
       "       [2.2, 1.3, 1.7]])"
      ]
     },
     "execution_count": 4,
     "metadata": {},
     "output_type": "execute_result"
    }
   ],
   "source": [
    "sess = tf.Session()\n",
    "# Create example y_hat.\n",
    "#we have batch_size=2 and we have 3 classes\n",
    "y_hat = tf.convert_to_tensor(np.array([[0.5, 1.5, 0.1],[2.2, 1.3, 1.7]]))\n",
    "sess.run(y_hat)\n",
    "# We can see values are not normalized it did not add upto 1\n",
    "#to that we can add tf.softmax function"
   ]
  },
  {
   "cell_type": "code",
   "execution_count": 5,
   "metadata": {},
   "outputs": [
    {
     "data": {
      "text/plain": [
       "array([[0.227863  , 0.61939586, 0.15274114],\n",
       "       [0.49674623, 0.20196195, 0.30129182]])"
      ]
     },
     "execution_count": 5,
     "metadata": {},
     "output_type": "execute_result"
    }
   ],
   "source": [
    "y_hat_softmax = tf.nn.softmax(y_hat)\n",
    "sess.run(y_hat_softmax)\n",
    "#now the value normalizes it the row values now added upto 1\n",
    "# we can treat it like the probability\n",
    "#Since for the first row 2nd probability is higher(0.61) it will predict as class 2\n",
    "# For the second row 1st probability is higher(0.49) it will predict as class 1"
   ]
  },
  {
   "cell_type": "code",
   "execution_count": 6,
   "metadata": {},
   "outputs": [
    {
     "data": {
      "text/plain": [
       "array([[0., 1., 0.],\n",
       "       [0., 0., 1.]])"
      ]
     },
     "execution_count": 6,
     "metadata": {},
     "output_type": "execute_result"
    }
   ],
   "source": [
    "y_true = tf.convert_to_tensor(np.array([[0.0, 1.0, 0.0],[0.0, 0.0, 1.0]]))\n",
    "sess.run(y_true)"
   ]
  },
  {
   "cell_type": "code",
   "execution_count": 9,
   "metadata": {},
   "outputs": [
    {
     "name": "stdout",
     "output_type": "stream",
     "text": [
      "[0.4790107  1.19967598]\n",
      "0.8393433389787792\n"
     ]
    }
   ],
   "source": [
    "#Using cross entropy formula we can calculate the loss for each training example\n",
    "#in our example it is 2\n",
    "#So 2 loss will be there\n",
    "loss_per_instance_2 = tf.nn.softmax_cross_entropy_with_logits(logits = y_hat, labels = y_true)\n",
    "print(sess.run(loss_per_instance_2))\n",
    "# array([ 0.4790107 ,  1.19967598])\n",
    "#And if we want to calculate the overall loss of 2 training examples we can apply tf.reduce_mean\n",
    "#Which will give a loss based on a batch\n",
    "total_loss_2 = tf.reduce_mean(tf.nn.softmax_cross_entropy_with_logits(logits = y_hat, labels = y_true))\n",
    "print(sess.run(total_loss_2))\n",
    "# 0.83934333897877922"
   ]
  },
  {
   "cell_type": "code",
   "execution_count": 10,
   "metadata": {},
   "outputs": [
    {
     "data": {
      "text/plain": [
       "0.83"
      ]
     },
     "execution_count": 10,
     "metadata": {},
     "output_type": "execute_result"
    }
   ],
   "source": [
    "(0.47+1.19)/2"
   ]
  },
  {
   "cell_type": "code",
   "execution_count": 14,
   "metadata": {},
   "outputs": [
    {
     "data": {
      "text/plain": [
       "0.47916547103812185"
      ]
     },
     "execution_count": 14,
     "metadata": {},
     "output_type": "execute_result"
    }
   ],
   "source": [
    "-np.log(0.6193)"
   ]
  },
  {
   "cell_type": "code",
   "execution_count": 15,
   "metadata": {},
   "outputs": [
    {
     "data": {
      "text/plain": [
       "array([ True, False])"
      ]
     },
     "execution_count": 15,
     "metadata": {},
     "output_type": "execute_result"
    }
   ],
   "source": [
    "#t.equal returns if the predicted and the actual value are same or not\n",
    "#for first training example it is same so it true for second training example it is not same \n",
    "#so it return false\n",
    "correct_prediction = tf.equal(tf.argmax(y_true, 1), tf.argmax(y_hat, 1))\n",
    "#accuracy = tf.reduce_mean(tf.cast(correct_prediction, tf.float32))\n",
    "sess.run(correct_prediction)"
   ]
  },
  {
   "cell_type": "code",
   "execution_count": 16,
   "metadata": {},
   "outputs": [
    {
     "data": {
      "text/plain": [
       "array([1., 0.], dtype=float32)"
      ]
     },
     "execution_count": 16,
     "metadata": {},
     "output_type": "execute_result"
    }
   ],
   "source": [
    "#tf.cast means we are converting some datatype to another datatype\n",
    "#here the boolean value converted to the float type\n",
    "#true changes to 1 and false changes to 0 \n",
    "sess.run(tf.cast(correct_prediction, tf.float32))"
   ]
  },
  {
   "cell_type": "code",
   "execution_count": 17,
   "metadata": {},
   "outputs": [
    {
     "data": {
      "text/plain": [
       "0.5"
      ]
     },
     "execution_count": 17,
     "metadata": {},
     "output_type": "execute_result"
    }
   ],
   "source": [
    "#then taking mean of the two training examples which is 0.5\n",
    "#so the accuracy is 50%(one rightly predicted and one wrongly predicted)\n",
    "sess.run(tf.reduce_mean(tf.cast(correct_prediction, tf.float32)))"
   ]
  },
  {
   "cell_type": "code",
   "execution_count": null,
   "metadata": {},
   "outputs": [],
   "source": []
  },
  {
   "cell_type": "code",
   "execution_count": null,
   "metadata": {},
   "outputs": [],
   "source": []
  },
  {
   "cell_type": "code",
   "execution_count": null,
   "metadata": {},
   "outputs": [],
   "source": []
  }
 ],
 "metadata": {
  "kernelspec": {
   "display_name": "Python 3",
   "language": "python",
   "name": "python3"
  },
  "language_info": {
   "codemirror_mode": {
    "name": "ipython",
    "version": 3
   },
   "file_extension": ".py",
   "mimetype": "text/x-python",
   "name": "python",
   "nbconvert_exporter": "python",
   "pygments_lexer": "ipython3",
   "version": "3.6.8"
  }
 },
 "nbformat": 4,
 "nbformat_minor": 2
}
