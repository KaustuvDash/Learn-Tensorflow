{
 "cells": [
  {
   "cell_type": "code",
   "execution_count": 11,
   "metadata": {},
   "outputs": [],
   "source": [
    "import tensorflow as tf\n",
    "import numpy as np"
   ]
  },
  {
   "cell_type": "code",
   "execution_count": 2,
   "metadata": {},
   "outputs": [],
   "source": [
    "#a = (b+c) * (c+2)\n",
    "#lets do it in tensorflow"
   ]
  },
  {
   "cell_type": "code",
   "execution_count": 3,
   "metadata": {},
   "outputs": [],
   "source": [
    "#suppose here initially i do not know what will be the value of b \n",
    "# At this time i know that it has one column so shape will be (None,1)\n",
    "#for that i can create b by tf.placeholder\n",
    "b = tf.placeholder(dtype = tf.float32,shape=(None,1),name='b')"
   ]
  },
  {
   "cell_type": "code",
   "execution_count": 4,
   "metadata": {},
   "outputs": [],
   "source": [
    "#Here c is the variable whose initial value is 1\n",
    "c = tf.Variable(1.0,name='c')"
   ]
  },
  {
   "cell_type": "code",
   "execution_count": 5,
   "metadata": {},
   "outputs": [],
   "source": [
    "#const is of value 2 which is fixed\n",
    "const = tf.constant(2.0,name='const')"
   ]
  },
  {
   "cell_type": "code",
   "execution_count": 6,
   "metadata": {},
   "outputs": [],
   "source": [
    "#added c and const\n",
    "d = tf.add(c,const)"
   ]
  },
  {
   "cell_type": "code",
   "execution_count": 7,
   "metadata": {},
   "outputs": [],
   "source": [
    "#added b and c\n",
    "e = tf.add(b,c)"
   ]
  },
  {
   "cell_type": "code",
   "execution_count": 8,
   "metadata": {},
   "outputs": [],
   "source": [
    "#multiply d and e \n",
    "a = tf.multiply(d,e,name='a')"
   ]
  },
  {
   "cell_type": "code",
   "execution_count": 9,
   "metadata": {},
   "outputs": [],
   "source": [
    "# setup the variable initialisation and the graph structure\n",
    "init_op = tf.global_variables_initializer()"
   ]
  },
  {
   "cell_type": "code",
   "execution_count": 22,
   "metadata": {},
   "outputs": [
    {
     "data": {
      "text/plain": [
       "(10, 1)"
      ]
     },
     "execution_count": 22,
     "metadata": {},
     "output_type": "execute_result"
    }
   ],
   "source": [
    "#np.arange(0,10) -- creates 10 values [0,1,2,3,4,5,6,7,8,9]\n",
    "#then [:,newaxis] means it will take that all 10 values as rows  and introduced a new columns\n",
    "#hence the shape of it will be (10,1)\n",
    "np.arange(0,10)[:,np.newaxis].shape"
   ]
  },
  {
   "cell_type": "code",
   "execution_count": 23,
   "metadata": {},
   "outputs": [
    {
     "name": "stdout",
     "output_type": "stream",
     "text": [
      "the value of a [[ 3.]\n",
      " [ 6.]\n",
      " [ 9.]\n",
      " [12.]\n",
      " [15.]\n",
      " [18.]\n",
      " [21.]\n",
      " [24.]\n",
      " [27.]\n",
      " [30.]]\n"
     ]
    }
   ],
   "source": [
    "#now all the computation will happen insidde the session and the run command\n",
    "with tf.Session() as sess:\n",
    "    #first initialize all the variables\n",
    "    sess.run(init_op)\n",
    "    #We have to find the value of a and and we have to give some values to b as we know we have \n",
    "    #not given any values to the b at first place\n",
    "    #here in run function feed_dict is a parameter in which we give values \n",
    "    #I give values to b as discussed above\n",
    "    a_out = sess.run(a,feed_dict={b: np.arange(0, 10)[:, np.newaxis]})\n",
    "    print('the value of a {}'.format(a_out))"
   ]
  },
  {
   "cell_type": "code",
   "execution_count": null,
   "metadata": {},
   "outputs": [],
   "source": []
  },
  {
   "cell_type": "code",
   "execution_count": null,
   "metadata": {},
   "outputs": [],
   "source": []
  }
 ],
 "metadata": {
  "kernelspec": {
   "display_name": "Python 3",
   "language": "python",
   "name": "python3"
  },
  "language_info": {
   "codemirror_mode": {
    "name": "ipython",
    "version": 3
   },
   "file_extension": ".py",
   "mimetype": "text/x-python",
   "name": "python",
   "nbconvert_exporter": "python",
   "pygments_lexer": "ipython3",
   "version": "3.6.8"
  }
 },
 "nbformat": 4,
 "nbformat_minor": 2
}
