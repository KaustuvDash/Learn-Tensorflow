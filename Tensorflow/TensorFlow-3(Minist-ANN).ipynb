{
 "cells": [
  {
   "cell_type": "code",
   "execution_count": 1,
   "metadata": {},
   "outputs": [],
   "source": [
    "import tensorflow as tf\n",
    "import numpy as np\n",
    "import warnings; \n",
    "warnings.simplefilter('ignore')"
   ]
  },
  {
   "cell_type": "code",
   "execution_count": 3,
   "metadata": {},
   "outputs": [
    {
     "name": "stdout",
     "output_type": "stream",
     "text": [
      "Extracting MNIST_data/train-images-idx3-ubyte.gz\n",
      "Extracting MNIST_data/train-labels-idx1-ubyte.gz\n",
      "Extracting MNIST_data/t10k-images-idx3-ubyte.gz\n",
      "Extracting MNIST_data/t10k-labels-idx1-ubyte.gz\n"
     ]
    }
   ],
   "source": [
    "#Reading the minist data\n",
    "#setting one_hot=True means i want y labels of my data to be one hot encoded\n",
    "#ex->suppose i have y which takes 3 values 1,2,3\n",
    "#one hot encoded will be [1,0,0],[0,1,0],[0,0,1]\n",
    "from tensorflow.examples.tutorials.mnist import input_data\n",
    "mnist = input_data.read_data_sets(\"MNIST_data/\", one_hot=True)"
   ]
  },
  {
   "cell_type": "code",
   "execution_count": 4,
   "metadata": {},
   "outputs": [],
   "source": [
    "#As i discussed previously if we do not know the shape of data we will use placeholder \n",
    "#our input is 28*28 pixel image of handwritten digits which are in grey scale(means black and white picture)\n",
    "#so we flatten the 28*28 to 784 dimension \n",
    "#Here x is the input to the neural network\n",
    "x = tf.placeholder(tf.float32, [None, 784])\n",
    "# now declare the output data placeholder - 10 digits [0,1,2,3,4,5,6,7,8,9]\n",
    "# y is the ouput value\n",
    "y = tf.placeholder(tf.float32, [None, 10])"
   ]
  },
  {
   "cell_type": "code",
   "execution_count": 5,
   "metadata": {},
   "outputs": [],
   "source": [
    "# I want my architecture is to one hidden layer \n",
    "# so my architecture is 784(input)---->300(hidden layer)---->10(output)\n",
    "# name parameter basically means what name we are giving to that variable(which is optional)\n",
    "# So for the input and hidden layer one weight matrix will be there which will be of shape (784,300)\n",
    "# So i initialized W1 matrix which takes values from normal dist with std-dev 0.03\n",
    "# I created this matrix using tf.variable because all the values in this matrix will change it is not constant\n",
    "W1 = tf.Variable(tf.random_normal([784, 300], stddev=0.03),name='W1')\n",
    "# For that weight matrix baises term will be there which will take 300 values\n",
    "b1 = tf.Variable(tf.random_normal([300]), name='b1')\n",
    "# similarly for hidden layer and output layer\n",
    "# the weight matrix W2 will have shape 300,10 \n",
    "W2 = tf.Variable(tf.random_normal([300,10], stddev=0.03),name='W2')\n",
    "# Same for biases term also \n",
    "b2 = tf.Variable(tf.random_normal([10]), name='b2')"
   ]
  },
  {
   "cell_type": "code",
   "execution_count": 6,
   "metadata": {},
   "outputs": [],
   "source": [
    "# Now for the forward propagation\n",
    "# first input values will be multiply with the W1 matrix \n",
    "# Then biases term will be added\n",
    "# After that ReLu non linearity is added\n",
    "hidden_out = tf.add(tf.matmul(x, W1), b1)\n",
    "hidden_out = tf.nn.relu(hidden_out)"
   ]
  },
  {
   "cell_type": "code",
   "execution_count": 7,
   "metadata": {},
   "outputs": [],
   "source": [
    "# Here the value of hidden_out goes to the W2 Matrix and we multiply with it and added the biases\n",
    "# Then applying softmax to it then storing it to y_\n",
    "y_hidden_out = tf.add(tf.matmul(hidden_out, W2), b2)\n",
    "y_ = tf.nn.softmax(y_hidden_out)\n",
    "# What softmax is bascially doing?\n",
    "# this  tf.add(tf.matmul(hidden_out, W2), b2) returns 10 values as output because we have 10 nodes at output\n",
    "# applying softmax on top of it normalizes that 10 values so that the 10 values added upto 1\n",
    "# Now that 10 values can act as probability score for each class"
   ]
  },
  {
   "cell_type": "code",
   "execution_count": 8,
   "metadata": {},
   "outputs": [
    {
     "name": "stderr",
     "output_type": "stream",
     "text": [
      "W1111 09:40:19.521057 10028 deprecation.py:323] From <ipython-input-8-49c22bec9490>:1: softmax_cross_entropy_with_logits (from tensorflow.python.ops.nn_ops) is deprecated and will be removed in a future version.\n",
      "Instructions for updating:\n",
      "\n",
      "Future major versions of TensorFlow will allow gradients to flow\n",
      "into the labels input on backprop by default.\n",
      "\n",
      "See `tf.nn.softmax_cross_entropy_with_logits_v2`.\n",
      "\n"
     ]
    }
   ],
   "source": [
    "cross_entropy = tf.reduce_mean(tf.nn.softmax_cross_entropy_with_logits(logits=y_hidden_out, labels=y))"
   ]
  },
  {
   "cell_type": "code",
   "execution_count": 9,
   "metadata": {},
   "outputs": [],
   "source": [
    "# Python optimisation variables\n",
    "learning_rate = 0.5\n",
    "epochs = 10\n",
    "batch_size = 100"
   ]
  },
  {
   "cell_type": "code",
   "execution_count": 10,
   "metadata": {},
   "outputs": [],
   "source": [
    "# Here we are choosing GradientDescentOptimizer with learning rate 0.5 which will minimize the \n",
    "# cross entropy loss\n",
    "optimiser = tf.train.GradientDescentOptimizer(learning_rate=learning_rate).minimize(cross_entropy)"
   ]
  },
  {
   "cell_type": "code",
   "execution_count": 11,
   "metadata": {},
   "outputs": [],
   "source": [
    "# finally setup the initialisation operator\n",
    "init_op = tf.global_variables_initializer()"
   ]
  },
  {
   "cell_type": "code",
   "execution_count": 12,
   "metadata": {},
   "outputs": [],
   "source": [
    "# define an accuracy assessment operation\n",
    "correct_prediction = tf.equal(tf.argmax(y, 1), tf.argmax(y_, 1))\n",
    "accuracy = tf.reduce_mean(tf.cast(correct_prediction, tf.float32))"
   ]
  },
  {
   "cell_type": "code",
   "execution_count": 13,
   "metadata": {},
   "outputs": [
    {
     "name": "stdout",
     "output_type": "stream",
     "text": [
      "Epoch: 1 cost = 0.349\n",
      "Epoch: 2 cost = 0.135\n",
      "Epoch: 3 cost = 0.093\n",
      "Epoch: 4 cost = 0.071\n",
      "Epoch: 5 cost = 0.057\n",
      "Epoch: 6 cost = 0.046\n",
      "Epoch: 7 cost = 0.039\n",
      "Epoch: 8 cost = 0.032\n",
      "Epoch: 9 cost = 0.027\n",
      "Epoch: 10 cost = 0.022\n",
      "0.9784\n"
     ]
    }
   ],
   "source": [
    "# start the session\n",
    "with tf.Session() as sess:\n",
    "   # initialise the variables\n",
    "    sess.run(init_op)\n",
    "    # how many total batches will be there\n",
    "    total_batch = int(len(mnist.train.labels) / batch_size)\n",
    "    for epoch in range(epochs):\n",
    "        avg_cost = 0\n",
    "        for i in range(total_batch):\n",
    "            # It is generating next batch with 100 training examples\n",
    "            batch_x, batch_y = mnist.train.next_batch(batch_size=batch_size)\n",
    "            # we are feeding x as batch_x and y as batch_y\n",
    "            # sess.run returns 2 values one for optimiser and another for cross_entropy for each batch\n",
    "            # no need to take values for optimiser(not required)\n",
    "            # return the value to c\n",
    "            _, c = sess.run([optimiser, cross_entropy], \n",
    "                         feed_dict={x: batch_x, y: batch_y})\n",
    "            avg_cost += c / total_batch\n",
    "        print(\"Epoch:\", (epoch + 1), \"cost =\", \"{:.3f}\".format(avg_cost))\n",
    "    print(sess.run(accuracy, feed_dict={x: mnist.test.images, y: mnist.test.labels}))"
   ]
  },
  {
   "cell_type": "code",
   "execution_count": null,
   "metadata": {},
   "outputs": [],
   "source": [
    "# only 10 epoches we are geting 97.84 accuracy in test data "
   ]
  }
 ],
 "metadata": {
  "kernelspec": {
   "display_name": "Python 3",
   "language": "python",
   "name": "python3"
  },
  "language_info": {
   "codemirror_mode": {
    "name": "ipython",
    "version": 3
   },
   "file_extension": ".py",
   "mimetype": "text/x-python",
   "name": "python",
   "nbconvert_exporter": "python",
   "pygments_lexer": "ipython3",
   "version": "3.6.8"
  }
 },
 "nbformat": 4,
 "nbformat_minor": 2
}
