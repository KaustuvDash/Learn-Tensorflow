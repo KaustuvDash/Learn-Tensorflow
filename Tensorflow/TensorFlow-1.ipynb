{
 "cells": [
  {
   "cell_type": "code",
   "execution_count": 1,
   "metadata": {},
   "outputs": [],
   "source": [
    "import tensorflow as tf"
   ]
  },
  {
   "cell_type": "code",
   "execution_count": 2,
   "metadata": {},
   "outputs": [],
   "source": [
    "# lets take a simple example i have to find the value of a ----> a = (b+c) * (c+2)\n",
    "#lets do it in tensorflow"
   ]
  },
  {
   "cell_type": "code",
   "execution_count": 3,
   "metadata": {},
   "outputs": [],
   "source": [
    "#here b and c are the variables\n",
    "b = tf.Variable(2.0,name='b')\n",
    "c = tf.Variable(1.0,name='c')\n",
    "#const is constant whose values can not be changed\n",
    "const = tf.constant(2.0,name='const')"
   ]
  },
  {
   "cell_type": "code",
   "execution_count": 4,
   "metadata": {},
   "outputs": [],
   "source": [
    "#first we calculate (b+c) and store it in d\n",
    "d = tf.add(b,c,name='d')\n",
    "#Then we calculate (c+2) and store it in e\n",
    "e = tf.add(c,const,name='e')"
   ]
  },
  {
   "cell_type": "code",
   "execution_count": 5,
   "metadata": {},
   "outputs": [],
   "source": [
    "#Then calculate d*e and store it in a\n",
    "a = tf.multiply(d,e,name='a')"
   ]
  },
  {
   "cell_type": "code",
   "execution_count": 13,
   "metadata": {},
   "outputs": [
    {
     "name": "stdout",
     "output_type": "stream",
     "text": [
      "type of b <tf.Variable 'b:0' shape=() dtype=float32_ref> ,type of c <tf.Variable 'c:0' shape=() dtype=float32_ref> ,type of const Tensor(\"const:0\", shape=(), dtype=float32) \n"
     ]
    }
   ],
   "source": [
    "print('type of b {} ,type of c {} ,type of const {} '.format(b,c,const))"
   ]
  },
  {
   "cell_type": "code",
   "execution_count": 6,
   "metadata": {},
   "outputs": [],
   "source": [
    "# Till now what we have defined have not initialized yet.Using tf.global_variables_initializer()\n",
    "# we initialized all the variables and construction of graph happens. \n",
    "#all the constants, variables, operations and the computational graph are only created when \n",
    "#the initialisation commands are run.\n",
    "init_op = tf.global_variables_initializer()"
   ]
  },
  {
   "cell_type": "code",
   "execution_count": 12,
   "metadata": {},
   "outputs": [
    {
     "name": "stdout",
     "output_type": "stream",
     "text": [
      "the value of a is 9.0\n"
     ]
    }
   ],
   "source": [
    "with tf.Session() as sess:\n",
    "    sess.run(init_op)#here we run the initialization command\n",
    "    a_out = sess.run(a)#here we run a to find the value of a\n",
    "    print('the value of a is {}'.format(a_out))"
   ]
  },
  {
   "cell_type": "code",
   "execution_count": null,
   "metadata": {},
   "outputs": [],
   "source": []
  }
 ],
 "metadata": {
  "kernelspec": {
   "display_name": "Python 3",
   "language": "python",
   "name": "python3"
  },
  "language_info": {
   "codemirror_mode": {
    "name": "ipython",
    "version": 3
   },
   "file_extension": ".py",
   "mimetype": "text/x-python",
   "name": "python",
   "nbconvert_exporter": "python",
   "pygments_lexer": "ipython3",
   "version": "3.6.8"
  }
 },
 "nbformat": 4,
 "nbformat_minor": 2
}
